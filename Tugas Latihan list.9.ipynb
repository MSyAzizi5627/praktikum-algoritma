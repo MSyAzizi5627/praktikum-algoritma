{
  "nbformat": 4,
  "nbformat_minor": 0,
  "metadata": {
    "colab": {
      "provenance": []
    },
    "kernelspec": {
      "name": "python3",
      "display_name": "Python 3"
    },
    "language_info": {
      "name": "python"
    }
  },
  "cells": [
    {
      "cell_type": "markdown",
      "source": [
        "Nama    : Muhammad Syafiq Azizi"
      ],
      "metadata": {
        "id": "rBMJzWHE65dk"
      }
    },
    {
      "cell_type": "markdown",
      "source": [
        "NPM     : 2505060045"
      ],
      "metadata": {
        "id": "VAGoJmIE7Pp6"
      }
    },
    {
      "cell_type": "markdown",
      "source": [
        "Rombel  : 03"
      ],
      "metadata": {
        "id": "mGfk8NEQ7RdS"
      }
    },
    {
      "cell_type": "markdown",
      "source": [
        "Buah buahan"
      ],
      "metadata": {
        "id": "nyI34QEdzVIA"
      }
    },
    {
      "cell_type": "code",
      "execution_count": 5,
      "metadata": {
        "colab": {
          "base_uri": "https://localhost:8080/"
        },
        "id": "n9bjRdEyyWRj",
        "outputId": "2cff4338-14e3-4cf5-db94-54af9bb9394b"
      },
      "outputs": [
        {
          "output_type": "stream",
          "name": "stdout",
          "text": [
            "['apel', 'mangga', 'jeruk', 'anggur', 'pisang', 'semangka']\n",
            "['apel', 'mangga', 'jeruk', 'durian', 'anggur', 'pisang', 'semangka']\n",
            "['apel', 'jeruk', 'durian', 'anggur', 'pisang', 'semangka']\n",
            "['apel', 'jeruk', 'durian', 'anggur', 'nanas', 'semangka']\n",
            "['apel', 'jeruk', 'durian']\n"
          ]
        }
      ],
      "source": [
        "buah = ['apel', 'mangga', 'jeruk', 'anggur', 'pisang']\n",
        "\n",
        "#a.Tambahkan 'semangka' di akhir list\n",
        "buah.append('semangka')\n",
        "print(buah)\n",
        "\n",
        "#b.Sisipkan 'durian' di antara 'jeruk' dan 'anggur' ada pada index ke 3\n",
        "buah.insert(3, 'durian')\n",
        "print(buah)\n",
        "\n",
        "#c.Hapus 'mangga' dari list\n",
        "buah.remove('mangga')\n",
        "print(buah)\n",
        "\n",
        "#d.Ubah 'pisang' menjadi 'nanas'\n",
        "# posisi pisang di sebelum semangka dan sesudah anggur atau di indeks -2 atau 4\n",
        "buah[-2] = 'nanas'\n",
        "print(buah)\n",
        "\n",
        "#e.Tampilkan 3 buah pertama\n",
        "print(buah[:3]) # ['apel', 'jeruk', 'durian']\n"
      ]
    },
    {
      "cell_type": "markdown",
      "source": [
        "Mengurutkan angka"
      ],
      "metadata": {
        "id": "2p0pwSZx1i-s"
      }
    },
    {
      "cell_type": "code",
      "source": [
        "angka = [45, 12, 78, 23, 56, 89, 34]\n",
        "\n",
        "# a. Urutkan list secara ascending (dari kecil ke besar)\n",
        "angka.sort()\n",
        "print(angka)\n",
        "\n",
        "# b. Urutkan list secara descending (dari besar ke kecil)\n",
        "angka.reverse()\n",
        "print(angka)"
      ],
      "metadata": {
        "colab": {
          "base_uri": "https://localhost:8080/"
        },
        "id": "TMrKb6sb1lyn",
        "outputId": "ce0e55f5-e66f-4eb1-b09c-f4b60a679767"
      },
      "execution_count": 7,
      "outputs": [
        {
          "output_type": "stream",
          "name": "stdout",
          "text": [
            "[12, 23, 34, 45, 56, 78, 89]\n",
            "[89, 78, 56, 45, 34, 23, 12]\n"
          ]
        }
      ]
    }
  ]
}